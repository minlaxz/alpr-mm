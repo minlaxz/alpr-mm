{
 "cells": [
  {
   "cell_type": "code",
   "execution_count": 4,
   "metadata": {},
   "outputs": [],
   "source": [
    "import cv2,os,pickle"
   ]
  },
  {
   "cell_type": "code",
   "execution_count": 5,
   "metadata": {},
   "outputs": [],
   "source": [
    "data_images = []\n",
    "labels = []\n",
    "input_path = 'dataset'"
   ]
  },
  {
   "cell_type": "code",
   "execution_count": 7,
   "metadata": {},
   "outputs": [
    {
     "name": "stdout",
     "output_type": "stream",
     "text": [
      " Dir_Name :\t O\n",
      "Done\n",
      " Dir_Name :\t G\n",
      "Done\n",
      " Dir_Name :\t C\n",
      "Done\n",
      " Dir_Name :\t X\n",
      "Done\n",
      " Dir_Name :\t T\n",
      "Done\n",
      " Dir_Name :\t 1\n",
      "Done\n",
      " Dir_Name :\t L\n",
      "Done\n",
      " Dir_Name :\t N\n",
      "Done\n",
      " Dir_Name :\t 9\n",
      "Done\n",
      " Dir_Name :\t W\n",
      "Done\n",
      " Dir_Name :\t 0\n",
      "Done\n",
      " Dir_Name :\t S\n",
      "Done\n",
      " Dir_Name :\t V\n",
      "Done\n",
      " Dir_Name :\t Z\n",
      "Done\n",
      " Dir_Name :\t D\n",
      "Done\n",
      " Dir_Name :\t 2\n",
      "Done\n",
      " Dir_Name :\t 6\n",
      "Done\n",
      " Dir_Name :\t M\n",
      "Done\n",
      " Dir_Name :\t Q\n",
      "Done\n",
      " Dir_Name :\t 3\n",
      "Done\n",
      " Dir_Name :\t I\n",
      "Done\n",
      " Dir_Name :\t J\n",
      "Done\n",
      " Dir_Name :\t E\n",
      "Done\n",
      " Dir_Name :\t R\n",
      "Done\n",
      " Dir_Name :\t P\n",
      "Done\n",
      " Dir_Name :\t A\n",
      "Done\n",
      " Dir_Name :\t H\n",
      "Done\n",
      " Dir_Name :\t 4\n",
      "Done\n",
      " Dir_Name :\t K\n",
      "Done\n",
      " Dir_Name :\t F\n",
      "Done\n",
      " Dir_Name :\t 7\n",
      "Done\n",
      " Dir_Name :\t B\n",
      "Done\n",
      " Dir_Name :\t 5\n",
      "Done\n",
      " Dir_Name :\t U\n",
      "Done\n",
      " Dir_Name :\t 8\n",
      "Done\n",
      " Dir_Name :\t Y\n",
      "Done\n"
     ]
    }
   ],
   "source": [
    "for _, dirs, files in os.walk(input_path):\n",
    "    for dir in dirs:\n",
    "        print(\" Dir_Name :\\t \" + dir)\n",
    "        for filename in os.listdir(input_path + \"/\" + dir):\n",
    "            if filename.endswith('.jpg'):\n",
    "                gray = cv2.cvtColor(cv2.imread(input_path + \"/\" + dir + \"/\" + filename), cv2.COLOR_BGR2GRAY)\n",
    "                data_images.append(gray)\n",
    "                labels.append(dir)\n",
    "        print('Done')"
   ]
  },
  {
   "cell_type": "code",
   "execution_count": 8,
   "metadata": {},
   "outputs": [
    {
     "name": "stdout",
     "output_type": "stream",
     "text": [
      "Length data : 73152\n",
      "Length labels : 73152\n"
     ]
    }
   ],
   "source": [
    "pickle.dump(data_images, open(\"data.pickle\", \"wb\"))\n",
    "pickle.dump(labels, open(\"labels.pickle\", \"wb\"))\n",
    "print('Length data : ' + str(len(data_images)))\n",
    "print('Length labels : ' + str(len(labels)))"
   ]
  },
  {
   "cell_type": "code",
   "execution_count": null,
   "metadata": {},
   "outputs": [],
   "source": []
  }
 ],
 "metadata": {
  "kernelspec": {
   "display_name": "Python 3",
   "language": "python",
   "name": "python3"
  },
  "language_info": {
   "codemirror_mode": {
    "name": "ipython",
    "version": 3
   },
   "file_extension": ".py",
   "mimetype": "text/x-python",
   "name": "python",
   "nbconvert_exporter": "python",
   "pygments_lexer": "ipython3",
   "version": "3.6.10"
  }
 },
 "nbformat": 4,
 "nbformat_minor": 4
}
